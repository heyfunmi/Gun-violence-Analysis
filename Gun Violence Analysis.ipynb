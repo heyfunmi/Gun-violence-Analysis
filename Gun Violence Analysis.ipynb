{
 "cells": [
  {
   "cell_type": "code",
   "execution_count": 1,
   "id": "9190a298",
   "metadata": {},
   "outputs": [],
   "source": [
    "# import neccesary libraries\n",
    "\n",
    "\n",
    "%matplotlib inline\n",
    "import numpy as np\n",
    "import pandas as pd\n",
    "import matplotlib.pyplot as plt\n",
    "import seaborn as sns"
   ]
  },
  {
   "cell_type": "code",
   "execution_count": 2,
   "id": "b05b067f",
   "metadata": {},
   "outputs": [],
   "source": [
    "#Read in the datset\n",
    "\n",
    "gun_violence_df = pd.read_csv('gun_violence.csv')"
   ]
  },
  {
   "cell_type": "code",
   "execution_count": 3,
   "id": "9beda1e4",
   "metadata": {},
   "outputs": [
    {
     "data": {
      "text/html": [
       "<div>\n",
       "<style scoped>\n",
       "    .dataframe tbody tr th:only-of-type {\n",
       "        vertical-align: middle;\n",
       "    }\n",
       "\n",
       "    .dataframe tbody tr th {\n",
       "        vertical-align: top;\n",
       "    }\n",
       "\n",
       "    .dataframe thead th {\n",
       "        text-align: right;\n",
       "    }\n",
       "</style>\n",
       "<table border=\"1\" class=\"dataframe\">\n",
       "  <thead>\n",
       "    <tr style=\"text-align: right;\">\n",
       "      <th></th>\n",
       "      <th>Incident_ID</th>\n",
       "      <th>Incident_Date</th>\n",
       "      <th>State</th>\n",
       "      <th>City</th>\n",
       "      <th>Address</th>\n",
       "      <th>Killed</th>\n",
       "      <th>Injured</th>\n",
       "    </tr>\n",
       "  </thead>\n",
       "  <tbody>\n",
       "    <tr>\n",
       "      <th>0</th>\n",
       "      <td>2335052</td>\n",
       "      <td>20-Jun-22</td>\n",
       "      <td>New York</td>\n",
       "      <td>New York (Manhattan)</td>\n",
       "      <td>5th Ave and W 139th St</td>\n",
       "      <td>1</td>\n",
       "      <td>8</td>\n",
       "    </tr>\n",
       "    <tr>\n",
       "      <th>1</th>\n",
       "      <td>2334620</td>\n",
       "      <td>19-Jun-22</td>\n",
       "      <td>South Carolina</td>\n",
       "      <td>Walterboro</td>\n",
       "      <td>1109 Rivers St</td>\n",
       "      <td>2</td>\n",
       "      <td>2</td>\n",
       "    </tr>\n",
       "    <tr>\n",
       "      <th>2</th>\n",
       "      <td>2334936</td>\n",
       "      <td>19-Jun-22</td>\n",
       "      <td>Michigan</td>\n",
       "      <td>Detroit</td>\n",
       "      <td>18501 Healy St</td>\n",
       "      <td>1</td>\n",
       "      <td>3</td>\n",
       "    </tr>\n",
       "    <tr>\n",
       "      <th>3</th>\n",
       "      <td>2334512</td>\n",
       "      <td>19-Jun-22</td>\n",
       "      <td>Florida</td>\n",
       "      <td>Miami</td>\n",
       "      <td>US-1 and SW 22nd Ave</td>\n",
       "      <td>0</td>\n",
       "      <td>5</td>\n",
       "    </tr>\n",
       "    <tr>\n",
       "      <th>4</th>\n",
       "      <td>2334920</td>\n",
       "      <td>19-Jun-22</td>\n",
       "      <td>District of Columbia</td>\n",
       "      <td>Washington</td>\n",
       "      <td>14th St and U St NW</td>\n",
       "      <td>1</td>\n",
       "      <td>3</td>\n",
       "    </tr>\n",
       "    <tr>\n",
       "      <th>...</th>\n",
       "      <td>...</td>\n",
       "      <td>...</td>\n",
       "      <td>...</td>\n",
       "      <td>...</td>\n",
       "      <td>...</td>\n",
       "      <td>...</td>\n",
       "      <td>...</td>\n",
       "    </tr>\n",
       "    <tr>\n",
       "      <th>1995</th>\n",
       "      <td>1289877</td>\n",
       "      <td>1-Jan-19</td>\n",
       "      <td>South Carolina</td>\n",
       "      <td>Columbia</td>\n",
       "      <td>1709 Decker Blvd</td>\n",
       "      <td>0</td>\n",
       "      <td>5</td>\n",
       "    </tr>\n",
       "    <tr>\n",
       "      <th>1996</th>\n",
       "      <td>1289618</td>\n",
       "      <td>1-Jan-19</td>\n",
       "      <td>Florida</td>\n",
       "      <td>Tallahassee</td>\n",
       "      <td>2020 W Pensacola St</td>\n",
       "      <td>0</td>\n",
       "      <td>5</td>\n",
       "    </tr>\n",
       "    <tr>\n",
       "      <th>1997</th>\n",
       "      <td>1289686</td>\n",
       "      <td>31-Dec-18</td>\n",
       "      <td>Ohio</td>\n",
       "      <td>Cleveland</td>\n",
       "      <td>4462 Denison Ave</td>\n",
       "      <td>3</td>\n",
       "      <td>2</td>\n",
       "    </tr>\n",
       "    <tr>\n",
       "      <th>1998</th>\n",
       "      <td>1288376</td>\n",
       "      <td>29-Dec-18</td>\n",
       "      <td>Ohio</td>\n",
       "      <td>Lima</td>\n",
       "      <td>904 S Main St</td>\n",
       "      <td>1</td>\n",
       "      <td>3</td>\n",
       "    </tr>\n",
       "    <tr>\n",
       "      <th>1999</th>\n",
       "      <td>1287286</td>\n",
       "      <td>28-Dec-18</td>\n",
       "      <td>Missouri</td>\n",
       "      <td>Saint Charles</td>\n",
       "      <td>150 Whetstone Dr</td>\n",
       "      <td>4</td>\n",
       "      <td>1</td>\n",
       "    </tr>\n",
       "  </tbody>\n",
       "</table>\n",
       "<p>2000 rows × 7 columns</p>\n",
       "</div>"
      ],
      "text/plain": [
       "      Incident_ID Incident_Date                 State                  City  \\\n",
       "0         2335052     20-Jun-22              New York  New York (Manhattan)   \n",
       "1         2334620     19-Jun-22        South Carolina            Walterboro   \n",
       "2         2334936     19-Jun-22              Michigan               Detroit   \n",
       "3         2334512     19-Jun-22               Florida                 Miami   \n",
       "4         2334920     19-Jun-22  District of Columbia            Washington   \n",
       "...           ...           ...                   ...                   ...   \n",
       "1995      1289877      1-Jan-19        South Carolina              Columbia   \n",
       "1996      1289618      1-Jan-19               Florida           Tallahassee   \n",
       "1997      1289686     31-Dec-18                  Ohio             Cleveland   \n",
       "1998      1288376     29-Dec-18                  Ohio                  Lima   \n",
       "1999      1287286     28-Dec-18              Missouri         Saint Charles   \n",
       "\n",
       "                     Address  Killed  Injured  \n",
       "0     5th Ave and W 139th St       1        8  \n",
       "1             1109 Rivers St       2        2  \n",
       "2             18501 Healy St       1        3  \n",
       "3       US-1 and SW 22nd Ave       0        5  \n",
       "4        14th St and U St NW       1        3  \n",
       "...                      ...     ...      ...  \n",
       "1995        1709 Decker Blvd       0        5  \n",
       "1996     2020 W Pensacola St       0        5  \n",
       "1997        4462 Denison Ave       3        2  \n",
       "1998           904 S Main St       1        3  \n",
       "1999        150 Whetstone Dr       4        1  \n",
       "\n",
       "[2000 rows x 7 columns]"
      ]
     },
     "execution_count": 3,
     "metadata": {},
     "output_type": "execute_result"
    }
   ],
   "source": [
    "gun_violence_df"
   ]
  },
  {
   "cell_type": "code",
   "execution_count": 4,
   "id": "6e9d39db",
   "metadata": {},
   "outputs": [
    {
     "name": "stdout",
     "output_type": "stream",
     "text": [
      "<class 'pandas.core.frame.DataFrame'>\n",
      "RangeIndex: 2000 entries, 0 to 1999\n",
      "Data columns (total 7 columns):\n",
      " #   Column         Non-Null Count  Dtype \n",
      "---  ------         --------------  ----- \n",
      " 0   Incident_ID    2000 non-null   int64 \n",
      " 1   Incident_Date  2000 non-null   object\n",
      " 2   State          2000 non-null   object\n",
      " 3   City           2000 non-null   object\n",
      " 4   Address        1996 non-null   object\n",
      " 5   Killed         2000 non-null   int64 \n",
      " 6   Injured        2000 non-null   int64 \n",
      "dtypes: int64(3), object(4)\n",
      "memory usage: 109.5+ KB\n"
     ]
    }
   ],
   "source": [
    "#information about the dataset\n",
    "\n",
    "gun_violence_df.info()"
   ]
  },
  {
   "cell_type": "code",
   "execution_count": 5,
   "id": "9967692f",
   "metadata": {},
   "outputs": [
    {
     "data": {
      "text/plain": [
       "(2000, 7)"
      ]
     },
     "execution_count": 5,
     "metadata": {},
     "output_type": "execute_result"
    }
   ],
   "source": [
    "#total number of rows and column \n",
    "\n",
    "gun_violence_df.shape"
   ]
  },
  {
   "cell_type": "code",
   "execution_count": 6,
   "id": "537c6fc7",
   "metadata": {},
   "outputs": [
    {
     "data": {
      "text/plain": [
       "Incident_ID      False\n",
       "Incident_Date    False\n",
       "State            False\n",
       "City             False\n",
       "Address           True\n",
       "Killed           False\n",
       "Injured          False\n",
       "dtype: bool"
      ]
     },
     "execution_count": 6,
     "metadata": {},
     "output_type": "execute_result"
    }
   ],
   "source": [
    "#checking for missing values in the datset\n",
    "\n",
    "gun_violence_df.isnull().any()"
   ]
  },
  {
   "cell_type": "code",
   "execution_count": 7,
   "id": "196f18ec",
   "metadata": {},
   "outputs": [
    {
     "data": {
      "text/plain": [
       "Incident_ID      0\n",
       "Incident_Date    0\n",
       "State            0\n",
       "City             0\n",
       "Address          4\n",
       "Killed           0\n",
       "Injured          0\n",
       "dtype: int64"
      ]
     },
     "execution_count": 7,
     "metadata": {},
     "output_type": "execute_result"
    }
   ],
   "source": [
    "#checking how many missing values are in the ADDRESS colum\n",
    "\n",
    "gun_violence_df.isnull().sum()"
   ]
  },
  {
   "cell_type": "code",
   "execution_count": 8,
   "id": "86cfa1f3",
   "metadata": {},
   "outputs": [],
   "source": [
    "#replacing the missing rows with \"not available\", since we cant replace it with a random address\n",
    "\n",
    "gun_violence_df.Address = gun_violence_df.Address.fillna('not available')"
   ]
  },
  {
   "cell_type": "code",
   "execution_count": 9,
   "id": "484dd9b5",
   "metadata": {},
   "outputs": [
    {
     "data": {
      "text/html": [
       "<div>\n",
       "<style scoped>\n",
       "    .dataframe tbody tr th:only-of-type {\n",
       "        vertical-align: middle;\n",
       "    }\n",
       "\n",
       "    .dataframe tbody tr th {\n",
       "        vertical-align: top;\n",
       "    }\n",
       "\n",
       "    .dataframe thead th {\n",
       "        text-align: right;\n",
       "    }\n",
       "</style>\n",
       "<table border=\"1\" class=\"dataframe\">\n",
       "  <thead>\n",
       "    <tr style=\"text-align: right;\">\n",
       "      <th></th>\n",
       "      <th>Incident_ID</th>\n",
       "      <th>Incident_Date</th>\n",
       "      <th>State</th>\n",
       "      <th>City</th>\n",
       "      <th>Address</th>\n",
       "      <th>Killed</th>\n",
       "      <th>Injured</th>\n",
       "    </tr>\n",
       "  </thead>\n",
       "  <tbody>\n",
       "    <tr>\n",
       "      <th>728</th>\n",
       "      <td>2025254</td>\n",
       "      <td>2-Jun-21</td>\n",
       "      <td>Arkansas</td>\n",
       "      <td>Magnolia</td>\n",
       "      <td>Calhoun Rd</td>\n",
       "      <td>0</td>\n",
       "      <td>4</td>\n",
       "    </tr>\n",
       "    <tr>\n",
       "      <th>1415</th>\n",
       "      <td>1698868</td>\n",
       "      <td>6-Jun-20</td>\n",
       "      <td>California</td>\n",
       "      <td>Sacramento</td>\n",
       "      <td>Gardendale Rd and 29th St</td>\n",
       "      <td>1</td>\n",
       "      <td>4</td>\n",
       "    </tr>\n",
       "    <tr>\n",
       "      <th>646</th>\n",
       "      <td>2052346</td>\n",
       "      <td>3-Jul-21</td>\n",
       "      <td>Illinois</td>\n",
       "      <td>Chicago</td>\n",
       "      <td>1000 block of W 89th St</td>\n",
       "      <td>0</td>\n",
       "      <td>4</td>\n",
       "    </tr>\n",
       "    <tr>\n",
       "      <th>557</th>\n",
       "      <td>2084884</td>\n",
       "      <td>7-Aug-21</td>\n",
       "      <td>Virginia</td>\n",
       "      <td>Norfolk</td>\n",
       "      <td>700 block of Granby St</td>\n",
       "      <td>0</td>\n",
       "      <td>4</td>\n",
       "    </tr>\n",
       "    <tr>\n",
       "      <th>910</th>\n",
       "      <td>1934225</td>\n",
       "      <td>20-Feb-21</td>\n",
       "      <td>Pennsylvania</td>\n",
       "      <td>Norristown (East Norriton)</td>\n",
       "      <td>2912 Swede Rd</td>\n",
       "      <td>1</td>\n",
       "      <td>4</td>\n",
       "    </tr>\n",
       "    <tr>\n",
       "      <th>1558</th>\n",
       "      <td>1610240</td>\n",
       "      <td>30-Jan-20</td>\n",
       "      <td>California</td>\n",
       "      <td>Merced</td>\n",
       "      <td>100 block of W 18th St</td>\n",
       "      <td>0</td>\n",
       "      <td>4</td>\n",
       "    </tr>\n",
       "    <tr>\n",
       "      <th>257</th>\n",
       "      <td>2213456</td>\n",
       "      <td>16-Jan-22</td>\n",
       "      <td>Georgia</td>\n",
       "      <td>Savannah</td>\n",
       "      <td>1100 Graydon St</td>\n",
       "      <td>1</td>\n",
       "      <td>3</td>\n",
       "    </tr>\n",
       "    <tr>\n",
       "      <th>351</th>\n",
       "      <td>2163306</td>\n",
       "      <td>9-Nov-21</td>\n",
       "      <td>New York</td>\n",
       "      <td>Rochester</td>\n",
       "      <td>Clifton St and Jefferson Ave</td>\n",
       "      <td>0</td>\n",
       "      <td>4</td>\n",
       "    </tr>\n",
       "    <tr>\n",
       "      <th>118</th>\n",
       "      <td>2289610</td>\n",
       "      <td>27-Apr-22</td>\n",
       "      <td>Texas</td>\n",
       "      <td>San Antonio</td>\n",
       "      <td>3399 Wurzbach Rd</td>\n",
       "      <td>0</td>\n",
       "      <td>5</td>\n",
       "    </tr>\n",
       "    <tr>\n",
       "      <th>1306</th>\n",
       "      <td>1725946</td>\n",
       "      <td>5-Jul-20</td>\n",
       "      <td>Missouri</td>\n",
       "      <td>Columbia</td>\n",
       "      <td>Volunteer Dr and Grace Ln</td>\n",
       "      <td>2</td>\n",
       "      <td>3</td>\n",
       "    </tr>\n",
       "  </tbody>\n",
       "</table>\n",
       "</div>"
      ],
      "text/plain": [
       "      Incident_ID Incident_Date         State                        City  \\\n",
       "728       2025254      2-Jun-21      Arkansas                    Magnolia   \n",
       "1415      1698868      6-Jun-20    California                  Sacramento   \n",
       "646       2052346      3-Jul-21      Illinois                     Chicago   \n",
       "557       2084884      7-Aug-21      Virginia                     Norfolk   \n",
       "910       1934225     20-Feb-21  Pennsylvania  Norristown (East Norriton)   \n",
       "1558      1610240     30-Jan-20    California                      Merced   \n",
       "257       2213456     16-Jan-22       Georgia                    Savannah   \n",
       "351       2163306      9-Nov-21      New York                   Rochester   \n",
       "118       2289610     27-Apr-22         Texas                 San Antonio   \n",
       "1306      1725946      5-Jul-20      Missouri                    Columbia   \n",
       "\n",
       "                           Address  Killed  Injured  \n",
       "728                     Calhoun Rd       0        4  \n",
       "1415     Gardendale Rd and 29th St       1        4  \n",
       "646        1000 block of W 89th St       0        4  \n",
       "557         700 block of Granby St       0        4  \n",
       "910                  2912 Swede Rd       1        4  \n",
       "1558        100 block of W 18th St       0        4  \n",
       "257                1100 Graydon St       1        3  \n",
       "351   Clifton St and Jefferson Ave       0        4  \n",
       "118               3399 Wurzbach Rd       0        5  \n",
       "1306     Volunteer Dr and Grace Ln       2        3  "
      ]
     },
     "execution_count": 9,
     "metadata": {},
     "output_type": "execute_result"
    }
   ],
   "source": [
    "#getting ten random samples from the datset\n",
    "\n",
    "gun_violence_df.sample(10)"
   ]
  },
  {
   "cell_type": "code",
   "execution_count": 10,
   "id": "16df2392",
   "metadata": {},
   "outputs": [
    {
     "data": {
      "text/plain": [
       "False"
      ]
     },
     "execution_count": 10,
     "metadata": {},
     "output_type": "execute_result"
    }
   ],
   "source": [
    "#checking for duplicates in the datset\n",
    "\n",
    "gun_violence_df.duplicated().any()"
   ]
  },
  {
   "cell_type": "code",
   "execution_count": 11,
   "id": "4f682a21",
   "metadata": {},
   "outputs": [],
   "source": [
    "#getting total number of gun violence incident\n",
    "\n",
    "Total_gun_violence_incident = gun_violence_df.Incident_ID.count()"
   ]
  },
  {
   "cell_type": "code",
   "execution_count": 12,
   "id": "f8f581c5",
   "metadata": {},
   "outputs": [
    {
     "data": {
      "text/plain": [
       "2000"
      ]
     },
     "execution_count": 12,
     "metadata": {},
     "output_type": "execute_result"
    }
   ],
   "source": [
    "Total_gun_violence_incident"
   ]
  },
  {
   "cell_type": "code",
   "execution_count": 13,
   "id": "c66f1020",
   "metadata": {},
   "outputs": [],
   "source": [
    "#total number of people killed\n",
    "\n",
    "Total_number_of_people_killed = gun_violence_df.Killed.sum()"
   ]
  },
  {
   "cell_type": "code",
   "execution_count": 14,
   "id": "6352f4bf",
   "metadata": {},
   "outputs": [
    {
     "data": {
      "text/plain": [
       "2003"
      ]
     },
     "execution_count": 14,
     "metadata": {},
     "output_type": "execute_result"
    }
   ],
   "source": [
    "Total_number_of_people_killed"
   ]
  },
  {
   "cell_type": "code",
   "execution_count": 15,
   "id": "098ee23c",
   "metadata": {},
   "outputs": [],
   "source": [
    "#total number of people injurerd\n",
    "\n",
    "Total_number_of_people_injured = gun_violence_df.Injured.sum()"
   ]
  },
  {
   "cell_type": "code",
   "execution_count": 16,
   "id": "a1b43ca8",
   "metadata": {},
   "outputs": [
    {
     "data": {
      "text/plain": [
       "8299"
      ]
     },
     "execution_count": 16,
     "metadata": {},
     "output_type": "execute_result"
    }
   ],
   "source": [
    "Total_number_of_people_injured"
   ]
  },
  {
   "cell_type": "code",
   "execution_count": 17,
   "id": "ebce8f6d",
   "metadata": {},
   "outputs": [],
   "source": [
    "#top ten states with most gun violence incident\n",
    "\n",
    "top_states = gun_violence_df.State.value_counts().head(10)"
   ]
  },
  {
   "cell_type": "code",
   "execution_count": 18,
   "id": "5293089e",
   "metadata": {},
   "outputs": [
    {
     "data": {
      "text/plain": [
       "Illinois        215\n",
       "California      158\n",
       "Texas           147\n",
       "Louisiana       102\n",
       "Pennsylvania    100\n",
       "Florida          94\n",
       "New York         92\n",
       "Ohio             79\n",
       "Georgia          69\n",
       "Maryland         69\n",
       "Name: State, dtype: int64"
      ]
     },
     "execution_count": 18,
     "metadata": {},
     "output_type": "execute_result"
    }
   ],
   "source": [
    "top_states"
   ]
  },
  {
   "cell_type": "code",
   "execution_count": 19,
   "id": "a243b656",
   "metadata": {},
   "outputs": [],
   "source": [
    "#representation of the top ten states on a barplot"
   ]
  },
  {
   "cell_type": "code",
   "execution_count": 20,
   "id": "5ebd403b",
   "metadata": {},
   "outputs": [],
   "source": [
    "import warnings\n",
    "warnings.simplefilter(action=\"ignore\", category=FutureWarning)"
   ]
  },
  {
   "cell_type": "code",
   "execution_count": 21,
   "id": "8df869d1",
   "metadata": {},
   "outputs": [
    {
     "data": {
      "image/png": "[encoded data removed]",
      "text/plain": [
       "<Figure size 864x432 with 1 Axes>"
      ]
     },
     "metadata": {
      "needs_background": "light"
     },
     "output_type": "display_data"
    }
   ],
   "source": [
    "plt.figure(figsize=(12,6))\n",
    "plt.xticks(rotation=75)\n",
    "plt.title(\"Top ten state with most incidents\")\n",
    "sns.barplot(top_states.index, top_states);\n",
    "plt.show()"
   ]
  },
  {
   "cell_type": "code",
   "execution_count": 22,
   "id": "a0491e2b",
   "metadata": {},
   "outputs": [],
   "source": [
    "#bottom ten states with the least gun violence incident\n",
    "bottom_states = gun_violence_df.State.value_counts().tail(10)"
   ]
  },
  {
   "cell_type": "code",
   "execution_count": 23,
   "id": "398f546a",
   "metadata": {},
   "outputs": [
    {
     "data": {
      "text/plain": [
       "Alaska           4\n",
       "West Virginia    4\n",
       "Montana          2\n",
       "Utah             2\n",
       "Idaho            2\n",
       "Rhode Island     2\n",
       "South Dakota     2\n",
       "New Hampshire    1\n",
       "Maine            1\n",
       "Wyoming          1\n",
       "Name: State, dtype: int64"
      ]
     },
     "execution_count": 23,
     "metadata": {},
     "output_type": "execute_result"
    }
   ],
   "source": [
    "bottom_states"
   ]
  },
  {
   "cell_type": "code",
   "execution_count": 24,
   "id": "7c9c741f",
   "metadata": {},
   "outputs": [
    {
     "data": {
      "image/png": "[encoded data removed]",
      "text/plain": [
       "<Figure size 864x432 with 1 Axes>"
      ]
     },
     "metadata": {
      "needs_background": "light"
     },
     "output_type": "display_data"
    }
   ],
   "source": [
    "plt.figure(figsize=(12,6))\n",
    "plt.xticks(rotation=75)\n",
    "plt.title(\"Bottom ten states with the least incidents\")\n",
    "sns.barplot(bottom_states.index, bottom_states);\n",
    "plt.show()"
   ]
  },
  {
   "cell_type": "code",
   "execution_count": 25,
   "id": "3d00dbd2",
   "metadata": {},
   "outputs": [
    {
     "data": {
      "text/html": [
       "<div>\n",
       "<style scoped>\n",
       "    .dataframe tbody tr th:only-of-type {\n",
       "        vertical-align: middle;\n",
       "    }\n",
       "\n",
       "    .dataframe tbody tr th {\n",
       "        vertical-align: top;\n",
       "    }\n",
       "\n",
       "    .dataframe thead th {\n",
       "        text-align: right;\n",
       "    }\n",
       "</style>\n",
       "<table border=\"1\" class=\"dataframe\">\n",
       "  <thead>\n",
       "    <tr style=\"text-align: right;\">\n",
       "      <th></th>\n",
       "      <th>State</th>\n",
       "      <th>Killed</th>\n",
       "    </tr>\n",
       "  </thead>\n",
       "  <tbody>\n",
       "    <tr>\n",
       "      <th>1753</th>\n",
       "      <td>Texas</td>\n",
       "      <td>23</td>\n",
       "    </tr>\n",
       "    <tr>\n",
       "      <th>65</th>\n",
       "      <td>Texas</td>\n",
       "      <td>22</td>\n",
       "    </tr>\n",
       "    <tr>\n",
       "      <th>1850</th>\n",
       "      <td>Virginia</td>\n",
       "      <td>13</td>\n",
       "    </tr>\n",
       "    <tr>\n",
       "      <th>1752</th>\n",
       "      <td>Ohio</td>\n",
       "      <td>10</td>\n",
       "    </tr>\n",
       "    <tr>\n",
       "      <th>81</th>\n",
       "      <td>New York</td>\n",
       "      <td>10</td>\n",
       "    </tr>\n",
       "    <tr>\n",
       "      <th>867</th>\n",
       "      <td>Colorado</td>\n",
       "      <td>10</td>\n",
       "    </tr>\n",
       "    <tr>\n",
       "      <th>741</th>\n",
       "      <td>California</td>\n",
       "      <td>10</td>\n",
       "    </tr>\n",
       "    <tr>\n",
       "      <th>824</th>\n",
       "      <td>Indiana</td>\n",
       "      <td>9</td>\n",
       "    </tr>\n",
       "    <tr>\n",
       "      <th>1717</th>\n",
       "      <td>Texas</td>\n",
       "      <td>8</td>\n",
       "    </tr>\n",
       "    <tr>\n",
       "      <th>875</th>\n",
       "      <td>Georgia</td>\n",
       "      <td>8</td>\n",
       "    </tr>\n",
       "  </tbody>\n",
       "</table>\n",
       "</div>"
      ],
      "text/plain": [
       "           State  Killed\n",
       "1753       Texas      23\n",
       "65         Texas      22\n",
       "1850    Virginia      13\n",
       "1752        Ohio      10\n",
       "81      New York      10\n",
       "867     Colorado      10\n",
       "741   California      10\n",
       "824      Indiana       9\n",
       "1717       Texas       8\n",
       "875      Georgia       8"
      ]
     },
     "execution_count": 25,
     "metadata": {},
     "output_type": "execute_result"
    }
   ],
   "source": [
    "#top ten states with most deaths\n",
    "\n",
    "most_deaths_df = gun_violence_df.sort_values('Killed',ascending=False).head(10)\n",
    "most_deaths_df[['State', 'Killed']]"
   ]
  },
  {
   "cell_type": "code",
   "execution_count": 26,
   "id": "f4d0716c",
   "metadata": {},
   "outputs": [
    {
     "data": {
      "text/plain": [
       "<AxesSubplot:xlabel='State'>"
      ]
     },
     "execution_count": 26,
     "metadata": {},
     "output_type": "execute_result"
    },
    {
     "data": {
      "image/png": "[encoded data removed]",
      "text/plain": [
       "<Figure size 432x288 with 1 Axes>"
      ]
     },
     "metadata": {
      "needs_background": "light"
     },
     "output_type": "display_data"
    }
   ],
   "source": [
    "#Top ten states with most death\n",
    "\n",
    "most_deaths_df.plot(kind='bar',x='State',y='Killed')"
   ]
  },
  {
   "cell_type": "code",
   "execution_count": 27,
   "id": "ca74da0d",
   "metadata": {},
   "outputs": [],
   "source": [
    "#top ten city with most incidents\n",
    "\n",
    "city_most_incidents = gun_violence_df.City.value_counts().head(10)"
   ]
  },
  {
   "cell_type": "code",
   "execution_count": 28,
   "id": "48cac2c9",
   "metadata": {},
   "outputs": [
    {
     "data": {
      "text/plain": [
       "Chicago         162\n",
       "Philadelphia     77\n",
       "Baltimore        48\n",
       "Houston          43\n",
       "Washington       35\n",
       "New Orleans      31\n",
       "Saint Louis      30\n",
       "Brooklyn         30\n",
       "Detroit          28\n",
       "Atlanta          25\n",
       "Name: City, dtype: int64"
      ]
     },
     "execution_count": 28,
     "metadata": {},
     "output_type": "execute_result"
    }
   ],
   "source": [
    "city_most_incidents"
   ]
  },
  {
   "cell_type": "code",
   "execution_count": 29,
   "id": "aaf90e56",
   "metadata": {},
   "outputs": [
    {
     "data": {
      "image/png": "[encoded data removed]",
      "text/plain": [
       "<Figure size 864x432 with 1 Axes>"
      ]
     },
     "metadata": {
      "needs_background": "light"
     },
     "output_type": "display_data"
    }
   ],
   "source": [
    "plt.figure(figsize=(12,6))\n",
    "plt.xticks(rotation=75)\n",
    "plt.title(\"Top ten city with most incidents\")\n",
    "sns.barplot(city_most_incidents.index, city_most_incidents);\n",
    "plt.show()"
   ]
  },
  {
   "cell_type": "code",
   "execution_count": 30,
   "id": "0b409cbf",
   "metadata": {},
   "outputs": [],
   "source": [
    "#top five city with the least incidents\n",
    "\n",
    "city_least_incidents = gun_violence_df.City.value_counts().tail(5)"
   ]
  },
  {
   "cell_type": "code",
   "execution_count": 31,
   "id": "60e56031",
   "metadata": {},
   "outputs": [
    {
     "data": {
      "text/plain": [
       "West Jefferson                  1\n",
       "Inkster                         1\n",
       "Cleveland (Garfield Heights)    1\n",
       "Salt Lake City                  1\n",
       "Lima                            1\n",
       "Name: City, dtype: int64"
      ]
     },
     "execution_count": 31,
     "metadata": {},
     "output_type": "execute_result"
    }
   ],
   "source": [
    "city_least_incidents"
   ]
  },
  {
   "cell_type": "code",
   "execution_count": 32,
   "id": "d82f98d9",
   "metadata": {},
   "outputs": [
    {
     "data": {
      "image/png": "[encoded data removed]",
      "text/plain": [
       "<Figure size 864x432 with 1 Axes>"
      ]
     },
     "metadata": {
      "needs_background": "light"
     },
     "output_type": "display_data"
    }
   ],
   "source": [
    "plt.figure(figsize=(12,6))\n",
    "plt.xticks(rotation=75)\n",
    "plt.title(\"Top ten city with least incidents\")\n",
    "sns.barplot(city_least_incidents.index, city_least_incidents);\n",
    "plt.show()"
   ]
  },
  {
   "cell_type": "code",
   "execution_count": 33,
   "id": "4b096b34",
   "metadata": {},
   "outputs": [],
   "source": [
    "#top five address with most gun violence incidents\n",
    "\n",
    "address_most_incidents = gun_violence_df.Address.value_counts().head(5)"
   ]
  },
  {
   "cell_type": "code",
   "execution_count": 34,
   "id": "05a58079",
   "metadata": {},
   "outputs": [
    {
     "data": {
      "text/plain": [
       "not available                        4\n",
       "3900 Martin Luther King Jr Ave SW    2\n",
       "900 block of N Sierra Way            2\n",
       "1437 St Clair Ave NE                 2\n",
       "136 Sturges Ave                      2\n",
       "Name: Address, dtype: int64"
      ]
     },
     "execution_count": 34,
     "metadata": {},
     "output_type": "execute_result"
    }
   ],
   "source": [
    "address_most_incidents"
   ]
  },
  {
   "cell_type": "code",
   "execution_count": 35,
   "id": "f0a5e3af",
   "metadata": {},
   "outputs": [
    {
     "data": {
      "image/png": "[encoded data removed]",
      "text/plain": [
       "<Figure size 864x432 with 1 Axes>"
      ]
     },
     "metadata": {
      "needs_background": "light"
     },
     "output_type": "display_data"
    }
   ],
   "source": [
    "plt.figure(figsize=(12,6))\n",
    "plt.xticks(rotation=75)\n",
    "plt.title(\"Top five address with most incidents\")\n",
    "sns.barplot(address_most_incidents.index, address_most_incidents);\n",
    "plt.show()"
   ]
  },
  {
   "cell_type": "code",
   "execution_count": null,
   "id": "7e9151bd",
   "metadata": {},
   "outputs": [],
   "source": []
  }
 ],
 "metadata": {
  "kernelspec": {
   "display_name": "Python 3 (ipykernel)",
   "language": "python",
   "name": "python3"
  },
  "language_info": {
   "codemirror_mode": {
    "name": "ipython",
    "version": 3
   },
   "file_extension": ".py",
   "mimetype": "text/x-python",
   "name": "python",
   "nbconvert_exporter": "python",
   "pygments_lexer": "ipython3",
   "version": "3.9.7"
  }
 },
 "nbformat": 4,
 "nbformat_minor": 5
}
